{
 "cells": [
  {
   "cell_type": "markdown",
   "id": "73b29972-3032-4f98-af3f-8279cc38a542",
   "metadata": {},
   "source": [
    "## CHI-SQUARE TEST"
   ]
  },
  {
   "cell_type": "code",
   "execution_count": 2,
   "id": "cc450c4e-fb19-4ba2-89e4-28986e939644",
   "metadata": {},
   "outputs": [],
   "source": [
    "## Mizzare Corporation has collected data on customer satisfaction levels for two types of smart home devices: Smart Thermostats and Smart Lights. They want to determine if there's a significant association between the type of device purchased and the customer's satisfaction level."
   ]
  },
  {
   "cell_type": "code",
   "execution_count": 3,
   "id": "a96d7d06-0fb0-4e6f-a066-8f265991d2b6",
   "metadata": {},
   "outputs": [],
   "source": [
    "## Satisfaction\t      Smart Thermostat\tSmart Light\t   Total\n",
    "## Very Satisfied \t       50\t             70      \t120\n",
    "## Satisfied\t           80\t             100      \t180\n",
    "## Neutral\t               60\t             90     \t150\n",
    "## Unsatisfied\t           30\t             50        \t80\n",
    "## Very Unsatisfied\t       20\t             50         70\n",
    "## Total\t               240         \t     360\t    600"
   ]
  },
  {
   "cell_type": "code",
   "execution_count": 6,
   "id": "8691e66a-a773-4ed9-88c4-d09f59b8b67e",
   "metadata": {},
   "outputs": [],
   "source": [
    "## Null Hypothesis (𝐻0): There is no association between device type and customer satisfaction level.\n",
    "## Alternative Hypothesis (𝐻𝑎): There is an association between device type and customer satisfaction level."
   ]
  },
  {
   "cell_type": "code",
   "execution_count": 8,
   "id": "c38b8ac3-fecc-4e57-a3cf-fc4c994706bf",
   "metadata": {},
   "outputs": [],
   "source": [
    "import numpy as np\n",
    "import scipy.stats as stats"
   ]
  },
  {
   "cell_type": "code",
   "execution_count": 9,
   "id": "7dd94f18-1566-4472-b442-9de8e44bb786",
   "metadata": {},
   "outputs": [],
   "source": [
    "# Data from given table\n",
    "observed = np.array([[50,70],[80,100],[60,90],[30,50],[20,50]])"
   ]
  },
  {
   "cell_type": "code",
   "execution_count": 10,
   "id": "bccb7818-bfce-474f-9de4-93b95f89dec4",
   "metadata": {},
   "outputs": [],
   "source": [
    "alpha=0.05"
   ]
  },
  {
   "cell_type": "code",
   "execution_count": 11,
   "id": "dcb47878-f977-4394-9947-63db374b00dd",
   "metadata": {},
   "outputs": [
    {
     "data": {
      "text/plain": [
       "Chi2ContingencyResult(statistic=5.638227513227513, pvalue=0.22784371130697179, dof=4, expected_freq=array([[ 48.,  72.],\n",
       "       [ 72., 108.],\n",
       "       [ 60.,  90.],\n",
       "       [ 32.,  48.],\n",
       "       [ 28.,  42.]]))"
      ]
     },
     "execution_count": 11,
     "metadata": {},
     "output_type": "execute_result"
    }
   ],
   "source": [
    "# Chisquare statistic\n",
    "expected = stats.chi2_contingency(observed)\n",
    "expected"
   ]
  },
  {
   "cell_type": "code",
   "execution_count": 12,
   "id": "a94075c6-b367-4cdb-8661-dc2709c9133f",
   "metadata": {},
   "outputs": [],
   "source": [
    "## alpha=0.05, 1-alpha=0.95 df=4 where df=(row-1)*(column-1) or df=no.of categories-1"
   ]
  },
  {
   "cell_type": "code",
   "execution_count": 18,
   "id": "7c577843-7e29-464c-906b-163598dc0200",
   "metadata": {},
   "outputs": [
    {
     "data": {
      "text/plain": [
       "9.487729036781154"
      ]
     },
     "execution_count": 18,
     "metadata": {},
     "output_type": "execute_result"
    }
   ],
   "source": [
    "chi2_critical=stats.chi2.ppf(0.95,4)\n",
    "chi2_critical"
   ]
  },
  {
   "cell_type": "code",
   "execution_count": 20,
   "id": "d68513f6-cd12-4d58-8adb-258ae0f8b98f",
   "metadata": {},
   "outputs": [],
   "source": [
    "## since chisquare statistic(5.638227513227513) < chisquare critical(9.487729036781154), we fail to reject H0\n",
    "## also since p value (0.22784371130697179) > alpha value (0.05), we fail to reject H0\n",
    "## i.e, There is no association between device type and customer satisfaction level."
   ]
  },
  {
   "cell_type": "code",
   "execution_count": null,
   "id": "83b06a2d-5791-4eff-901d-6da0239d26ca",
   "metadata": {},
   "outputs": [],
   "source": []
  },
  {
   "cell_type": "markdown",
   "id": "5b48da55-c914-4534-9741-03c88aceca00",
   "metadata": {},
   "source": [
    "## Hypothesis Testing"
   ]
  },
  {
   "cell_type": "code",
   "execution_count": 24,
   "id": "371c160c-a204-4dd5-9bab-b5ddff1f7d11",
   "metadata": {},
   "outputs": [],
   "source": [
    "## Bombay hospitality Ltd. operates a franchise model for producing exotic Norwegian dinners throughout New England. The operating cost for a franchise in a week (W) is given by the equation W = $1,000 + $5X, where X represents the number of units produced in a week. Recent feedback from restaurant owners suggests that this cost model may no longer be accurate, as their observed weekly operating costs are higher."
   ]
  },
  {
   "cell_type": "code",
   "execution_count": 1,
   "id": "ea78bb7d-22eb-4207-a34b-fb7d05951689",
   "metadata": {},
   "outputs": [],
   "source": [
    "# one-tailed t test"
   ]
  },
  {
   "cell_type": "code",
   "execution_count": 3,
   "id": "d29be893-9cae-4843-99f0-75bd0003d7f4",
   "metadata": {},
   "outputs": [],
   "source": [
    "import numpy as np\n",
    "from scipy import stats"
   ]
  },
  {
   "cell_type": "code",
   "execution_count": 4,
   "id": "e64f21d5-34e3-4ead-85d4-5ec5f4cc31cb",
   "metadata": {},
   "outputs": [],
   "source": [
    "# Null Hypothesis (H₀): The actual mean weekly operating cost is equal to the theoretical mean cost.H0:μ=W=1000+5×600=4,000\n",
    "# Alternative Hypothesis (H₁): The actual mean weekly operating cost is greater than the theoretical mean cost.Ho:μ>4,000"
   ]
  },
  {
   "cell_type": "code",
   "execution_count": 5,
   "id": "4c33a1a8-1aa1-49c9-8582-e51354bb0e2c",
   "metadata": {},
   "outputs": [],
   "source": [
    "# Given data\n",
    "sample_mean = 3050  # Mean weekly cost from the sample\n",
    "population_mean = 4000  # Theoretical mean weekly cost\n",
    "std_dev = 125  # Standard deviation of weekly costs\n",
    "n = 25  # Sample size\n",
    "units_produced_mean= 600 #units produced in a week with mean(μ)\n",
    "alpha=0.05"
   ]
  },
  {
   "cell_type": "code",
   "execution_count": 6,
   "id": "27749bbc-ce21-4c13-b97c-4c0f5b92b441",
   "metadata": {},
   "outputs": [
    {
     "data": {
      "text/plain": [
       "-38.0"
      ]
     },
     "execution_count": 6,
     "metadata": {},
     "output_type": "execute_result"
    }
   ],
   "source": [
    "# t statistic value\n",
    "import math\n",
    "t_stat=(sample_mean-population_mean)/(std_dev/math.sqrt(n))\n",
    "t_stat"
   ]
  },
  {
   "cell_type": "code",
   "execution_count": 7,
   "id": "2fbbd47a-a309-46ad-9409-6e1e43910492",
   "metadata": {},
   "outputs": [
    {
     "data": {
      "text/plain": [
       "1.6448536269514722"
      ]
     },
     "execution_count": 7,
     "metadata": {},
     "output_type": "execute_result"
    }
   ],
   "source": [
    "# critical value for a one-tailed test\n",
    "critical_value = stats.norm.ppf(1 - alpha)\n",
    "critical_value"
   ]
  },
  {
   "cell_type": "code",
   "execution_count": 8,
   "id": "beb49b56-d02b-4341-b8f7-d7421627e158",
   "metadata": {},
   "outputs": [
    {
     "data": {
      "text/plain": [
       "0.0"
      ]
     },
     "execution_count": 8,
     "metadata": {},
     "output_type": "execute_result"
    }
   ],
   "source": [
    "p_value = stats.norm.cdf(t_stat) # For left-tailed test\n",
    "p_value"
   ]
  },
  {
   "cell_type": "code",
   "execution_count": 15,
   "id": "35a12658-8171-4241-b629-028a2b6d4344",
   "metadata": {},
   "outputs": [],
   "source": [
    "# decision\n",
    "# we reject the null hypothesis"
   ]
  },
  {
   "cell_type": "code",
   "execution_count": 19,
   "id": "1404de46-0a57-405e-843b-c41e39cb9ab4",
   "metadata": {},
   "outputs": [],
   "source": [
    "# conclusion \n",
    "# eventhough the critical value>t statistic, we reject the null hypothesis\n",
    "# Since the test statistic is much less than the critical value.\n",
    "# ie. The actual mean weekly operating cost is greater than the theoretical mean cost.\n",
    "# Ho:μ>4,000 "
   ]
  }
 ],
 "metadata": {
  "kernelspec": {
   "display_name": "Python 3 (ipykernel)",
   "language": "python",
   "name": "python3"
  },
  "language_info": {
   "codemirror_mode": {
    "name": "ipython",
    "version": 3
   },
   "file_extension": ".py",
   "mimetype": "text/x-python",
   "name": "python",
   "nbconvert_exporter": "python",
   "pygments_lexer": "ipython3",
   "version": "3.12.4"
  }
 },
 "nbformat": 4,
 "nbformat_minor": 5
}
